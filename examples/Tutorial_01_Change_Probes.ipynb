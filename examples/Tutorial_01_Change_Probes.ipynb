{
 "cells": [
  {
   "cell_type": "markdown",
   "id": "52419e6b-2636-42f7-9084-7eeca70bdbe0",
   "metadata": {},
   "source": [
    "# Tutorial 01: Change your Probes\n",
    "\n",
    "Author: Tianqing Zhang\n",
    "\n",
    "One of the functionalities in FisherA2Z is to change the probes for the Fisher forecasts. Currently, the available probes are\n",
    "\n",
    " - Cosmic shear\n",
    " \n",
    " - Galaxy-galaxy lensing\n",
    " \n",
    " - Clustering\n",
    " \n",
    " - 2x2pt (Clustering + Galaxy-galaxy lensing)\n",
    " \n",
    " - 3x2pt (Clustering + Galaxy-galaxy lensing + Cosmic shear)"
   ]
  },
  {
   "cell_type": "code",
   "execution_count": 1,
   "id": "a34505cf-1e43-4c1c-affe-f33b656f244f",
   "metadata": {},
   "outputs": [],
   "source": [
    "from fisherA2Z.fisher import Fisher\n",
    "\n",
    "import pyccl as ccl\n",
    "import matplotlib.pyplot as plt\n",
    "import warnings\n",
    "warnings.filterwarnings('ignore')"
   ]
  },
  {
   "cell_type": "code",
   "execution_count": 3,
   "id": "275fb68e-28ca-4bff-9650-0f7f25a9593d",
   "metadata": {},
   "outputs": [],
   "source": [
    "cosmo = ccl.Cosmology(Omega_c=0.2666, \n",
    "                       Omega_b=0.049, \n",
    "                       h=0.6727, \n",
    "                       sigma8=0.831, \n",
    "                       n_s=0.9645, \n",
    "                       transfer_function='eisenstein_hu')\n"
   ]
  },
  {
   "cell_type": "markdown",
   "id": "48fff8f5-c922-4ad5-a4ed-9276544fe1d6",
   "metadata": {},
   "source": [
    "We change the probe by specifying the `probe` parameter during initialization of the Fisher object\n",
    "\n",
    "Let's make a cosmic shear forecast by `probe='ss'`, and save the derivative to `'data/obj_deriv_ss_y10.pkl'`. The derivative takes a long time to calculate, so saving it save you much time next time you run the same code. \n",
    "\n",
    "We set `end = 11` to include 7 cosmological parameter + 4 intrinsic alignment parameters"
   ]
  },
  {
   "cell_type": "code",
   "execution_count": 5,
   "id": "f4ead514-d89a-4919-897b-11554b370403",
   "metadata": {},
   "outputs": [
    {
     "name": "stdout",
     "output_type": "stream",
     "text": [
      "Making source pz\n",
      "Making lens pz\n",
      "Making fiducial c_ells\n",
      "Getting covariance matrix\n",
      "Getting derivatives, number of parameters: 36\n",
      "Getting derivatives of C_ell w.r.t.:  omega_m\n",
      "Getting derivatives of C_ell w.r.t.:  sigma_8\n",
      "Getting derivatives of C_ell w.r.t.:  n_s\n",
      "Getting derivatives of C_ell w.r.t.:  w_0\n",
      "Getting derivatives of C_ell w.r.t.:  w_a\n",
      "Getting derivatives of C_ell w.r.t.:  omega_b\n",
      "Getting derivatives of C_ell w.r.t.:  h\n",
      "Getting derivatives of C_ell w.r.t.:  A0\n",
      "Getting derivatives of C_ell w.r.t.:  beta\n",
      "Getting derivatives of C_ell w.r.t.:  etal\n",
      "Getting derivatives of C_ell w.r.t.:  etah\n",
      "Getting derivatives of C_ell w.r.t.:  zbias1\n",
      "Getting derivatives of C_ell w.r.t.:  zbias2\n",
      "Getting derivatives of C_ell w.r.t.:  zbias3\n",
      "Getting derivatives of C_ell w.r.t.:  zbias4\n",
      "Getting derivatives of C_ell w.r.t.:  zbias5\n",
      "Getting derivatives of C_ell w.r.t.:  zvariance1\n",
      "Getting derivatives of C_ell w.r.t.:  zvariance2\n",
      "Getting derivatives of C_ell w.r.t.:  zvariance3\n",
      "Getting derivatives of C_ell w.r.t.:  zvariance4\n",
      "Getting derivatives of C_ell w.r.t.:  zvariance5\n",
      "Getting derivatives of C_ell w.r.t.:  zoutlier1\n",
      "Getting derivatives of C_ell w.r.t.:  zoutlier2\n",
      "Getting derivatives of C_ell w.r.t.:  zoutlier3\n",
      "Getting derivatives of C_ell w.r.t.:  zoutlier4\n",
      "Getting derivatives of C_ell w.r.t.:  zoutlier5\n",
      "Getting derivatives of C_ell w.r.t.:  gbias1\n",
      "Getting derivatives of C_ell w.r.t.:  gbias2\n",
      "Getting derivatives of C_ell w.r.t.:  gbias3\n",
      "Getting derivatives of C_ell w.r.t.:  gbias4\n",
      "Getting derivatives of C_ell w.r.t.:  gbias5\n",
      "Getting derivatives of C_ell w.r.t.:  gbias6\n",
      "Getting derivatives of C_ell w.r.t.:  gbias7\n",
      "Getting derivatives of C_ell w.r.t.:  gbias8\n",
      "Getting derivatives of C_ell w.r.t.:  gbias9\n",
      "Getting derivatives of C_ell w.r.t.:  gbias10\n",
      "Building fisher matrix\n",
      "Done\n"
     ]
    }
   ],
   "source": [
    "\n",
    "f_ss_y10 = Fisher(cosmo, probe='ss', save_deriv='data/obj_deriv_ss_y10.pkl', overwrite=True, end = 11)\n",
    "f_ss_y10.process()"
   ]
  },
  {
   "cell_type": "code",
   "execution_count": null,
   "id": "53cd58a9-8174-455a-a8b2-607fe41d6ae2",
   "metadata": {},
   "outputs": [],
   "source": []
  }
 ],
 "metadata": {
  "kernelspec": {
   "display_name": "fisher_env",
   "language": "python",
   "name": "fisher_env"
  },
  "language_info": {
   "codemirror_mode": {
    "name": "ipython",
    "version": 3
   },
   "file_extension": ".py",
   "mimetype": "text/x-python",
   "name": "python",
   "nbconvert_exporter": "python",
   "pygments_lexer": "ipython3",
   "version": "3.8.20"
  }
 },
 "nbformat": 4,
 "nbformat_minor": 5
}
