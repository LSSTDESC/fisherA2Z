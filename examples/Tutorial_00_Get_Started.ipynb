{
 "cells": [
  {
   "cell_type": "code",
   "execution_count": null,
   "id": "6fa16709-fd37-470a-845e-f32f673701d0",
   "metadata": {},
   "outputs": [],
   "source": [
    "from fisherA2Z.fisher import Fisher\n",
    "\n",
    "import pyccl as ccl\n",
    "import matplotlib.pyplot as plt\n",
    "import warnings\n",
    "warnings.filterwarnings('ignore')"
   ]
  },
  {
   "cell_type": "code",
   "execution_count": null,
   "id": "0efa67d8-4acb-4eb0-a5a0-cafcbb0754a7",
   "metadata": {},
   "outputs": [],
   "source": [
    "cosmo = ccl.Cosmology(Omega_c=0.2666, \n",
    "                       Omega_b=0.049, \n",
    "                       h=0.6727, \n",
    "                       sigma8=0.831, \n",
    "                       n_s=0.9645, \n",
    "                       transfer_function='eisenstein_hu')\n"
   ]
  },
  {
   "cell_type": "code",
   "execution_count": null,
   "id": "f1fedd3a-a5d7-493a-9c21-4f8d75b3a6e3",
   "metadata": {},
   "outputs": [],
   "source": [
    "fisher_obj = Fisher(cosmo, end = 7)"
   ]
  },
  {
   "cell_type": "code",
   "execution_count": null,
   "id": "07f06c8a-e869-43ec-a6f4-594a1ce7c4f5",
   "metadata": {},
   "outputs": [],
   "source": [
    "fisher_obj.process()"
   ]
  },
  {
   "cell_type": "code",
   "execution_count": null,
   "id": "225da7ae-4638-45e1-b011-fd7964f04bb1",
   "metadata": {},
   "outputs": [],
   "source": [
    "fisher_obj_y1 = Fisher(cosmo, end = 7, y1 = True)"
   ]
  },
  {
   "cell_type": "code",
   "execution_count": null,
   "id": "ca5d0b84-6160-4906-bd7e-f90a10ac3300",
   "metadata": {},
   "outputs": [],
   "source": [
    "fisher_obj_y1.process()"
   ]
  },
  {
   "cell_type": "code",
   "execution_count": null,
   "id": "6902a448-06ed-4efe-8fb3-a9f256da7209",
   "metadata": {},
   "outputs": [],
   "source": [
    "from fisherA2Z.fisher import FoM\n",
    "from fisherA2Z.fisher import Fisher, marginalize, SmailZ, Core, PhotozModel\n",
    "import numpy as np\n",
    "import matplotlib"
   ]
  },
  {
   "cell_type": "code",
   "execution_count": null,
   "id": "0c2659af-0f68-4322-be36-cb66dfa44e7b",
   "metadata": {},
   "outputs": [],
   "source": [
    "def plot_contours(matrix, sigmas, fid,  **kwargs):\n",
    "    prefactor = {1:1.52, 2:2.48}\n",
    "    prefactor = prefactor[sigmas]\n",
    "    matrix = np.linalg.inv(matrix)\n",
    "    s00, s01, s11 = matrix[0][0], matrix[0][1], matrix[1][1]\n",
    "    a = np.sqrt(\n",
    "        0.5*(s00 + s11) + np.sqrt(s01**2 + 0.25*(s00-s11)**2)\n",
    "    )\n",
    "    b = np.sqrt(\n",
    "        0.5*(s00 + s11) - np.sqrt(s01**2 + 0.25*(s00-s11)**2)\n",
    "    )\n",
    "    b *= prefactor\n",
    "    a *= prefactor\n",
    "    theta = np.arctan(2*s01/(s00-s11))/2\n",
    "    eig = np.linalg.eig(matrix)\n",
    "    maxeig = eig[1][np.argmax(eig[0])]\n",
    "    theta = np.arctan2(maxeig[1], maxeig[0])\n",
    "    el = matplotlib.patches.Ellipse(fid, 2*a, 2*b, angle=-np.degrees(theta), alpha=0.3, **kwargs)\n",
    "    xlim = np.sqrt(a**2*np.cos(theta)**2 + b**2*np.sin(theta)**2)\n",
    "    ylim = np.sqrt(a**2*np.sin(theta)**2 + b**2*np.cos(theta)**2)\n",
    "    return el, xlim, ylim, np.pi*a*b"
   ]
  },
  {
   "cell_type": "code",
   "execution_count": null,
   "id": "1943fa49-e08a-4e3b-bd4e-c70e637fb5fa",
   "metadata": {},
   "outputs": [],
   "source": [
    "fig, ax = plt.subplots(1, 2, figsize = (16,8))\n",
    "\n",
    "for paramset in [[['omega_m', 'sigma_8'], ['w_0', 'w_a']]]:\n",
    "    for j, params in enumerate(paramset):\n",
    "        ax[j].set_title('Cosmic Shear Only', fontsize = 22)\n",
    "        colors = ['red', 'green']\n",
    "        arg = fisher_obj\n",
    "        labels = ['3x2pt Y10', '3x2pt Y1']\n",
    "        es = []\n",
    "        for matrix, label, color in zip([fisher_obj_y1.fisher, fisher_obj.fisher], labels, colors):\n",
    "            fid=(arg.vals[params[0]], arg.vals[params[1]])\n",
    "            if label == 'biased':\n",
    "                fid = (fid[0] + para_bias[params[0]], fid[1] + para_bias[params[1]])\n",
    "                \n",
    "            this_fisher = marginalize(matrix, \n",
    "                            arg.param_order.index(params[0]), \n",
    "                            arg.param_order.index(params[1]))\n",
    "            e, xlim, ylim, _ = plot_contours(\n",
    "                this_fisher,\n",
    "                sigmas=2, fid=fid\n",
    "                )\n",
    "            \n",
    "                    \n",
    "            e.set_label(label)\n",
    "            e.set_facecolor('none')\n",
    "            e.set_alpha(1)\n",
    "            e.set_edgecolor(color)\n",
    "            e.set_linewidth(3.0)\n",
    "            es.append(e)\n",
    "            ax[j].add_artist(e)\n",
    "            #limnew = 1*max(abs(para_bias[params[0]]), abs(para_bias[params[1]]))\n",
    "            xlim = (arg.vals[params[0]] - 4* xlim, arg.vals[params[0]] + 4* xlim)\n",
    "            ylim = (arg.vals[params[1]] - 4* ylim, arg.vals[params[1]] + 4* ylim)\n",
    "            ax[j].set_xlim((xlim))\n",
    "            ax[j].set_ylim((ylim))\n",
    "            \n",
    "            ax[j].set_xlabel(arg.param_labels[arg.param_order.index(params[0])],fontsize = 22)\n",
    "            ax[j].set_ylabel(arg.param_labels[arg.param_order.index(params[1])],fontsize = 22)\n",
    "            plt.tight_layout()\n",
    "    \n",
    "    ax[j].legend(handles=es)\n",
    "    \n",
    "        "
   ]
  },
  {
   "cell_type": "code",
   "execution_count": null,
   "id": "119ed47c-6dda-4941-aaa0-b146159aec18",
   "metadata": {},
   "outputs": [],
   "source": []
  }
 ],
 "metadata": {
  "kernelspec": {
   "display_name": "fisher_env",
   "language": "python",
   "name": "fisher_env"
  },
  "language_info": {
   "codemirror_mode": {
    "name": "ipython",
    "version": 3
   },
   "file_extension": ".py",
   "mimetype": "text/x-python",
   "name": "python",
   "nbconvert_exporter": "python",
   "pygments_lexer": "ipython3",
   "version": "3.8.20"
  }
 },
 "nbformat": 4,
 "nbformat_minor": 5
}
